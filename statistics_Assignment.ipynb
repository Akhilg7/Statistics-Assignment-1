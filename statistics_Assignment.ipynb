{
  "nbformat": 4,
  "nbformat_minor": 0,
  "metadata": {
    "colab": {
      "name": "statistics Assignment.ipynb",
      "provenance": [],
      "collapsed_sections": []
    },
    "kernelspec": {
      "name": "python3",
      "display_name": "Python 3"
    },
    "language_info": {
      "name": "python"
    }
  },
  "cells": [
    {
      "cell_type": "markdown",
      "metadata": {
        "id": "cfJtczcuAZwe"
      },
      "source": [
        "Calculate the mean, median, mode and standard deviation for the problem  statements 1& 2. "
      ]
    },
    {
      "cell_type": "markdown",
      "metadata": {
        "id": "2EW6j3tvApFT"
      },
      "source": [
        "1.The marks awarded for an assignment set for a Year 8 class of 20 students were as  follows: \n",
        "6 7 5 7 7 8 7 6 9 7 4 10 6 8 8 9 5 6 4 8 "
      ]
    },
    {
      "cell_type": "code",
      "metadata": {
        "colab": {
          "base_uri": "https://localhost:8080/"
        },
        "id": "ZFl0bOaYAQdd",
        "outputId": "60171596-086f-42d2-94a2-f2b50639a3ee"
      },
      "source": [
        "import numpy as np\n",
        "from scipy import stats\n",
        "import math\n",
        "import statistics\n",
        "import os\n",
        "import sys\n",
        "a=[6, 7, 5 ,7, 7, 8, 7, 6, 9, 7, 4, 10, 6, 8, 8, 9, 5, 6, 4, 8]\n",
        "import numpy as np\n",
        "import statistics\n",
        "a=np.array(a)\n",
        "print(\"Mean:\",np.mean(a))\n",
        "print(\"Median:\",np.median(a))\n",
        "print(\"Mode:\",statistics.mode(a))\n",
        "print(\"std-dev:\",np.std(a))"
      ],
      "execution_count": null,
      "outputs": [
        {
          "output_type": "stream",
          "name": "stdout",
          "text": [
            "Mean: 6.85\n",
            "Median: 7.0\n",
            "Mode: 7\n",
            "std-dev: 1.5898113095584647\n"
          ]
        }
      ]
    },
    {
      "cell_type": "markdown",
      "metadata": {
        "id": "Y94aJ-Z8DRsl"
      },
      "source": [
        "2.The number of calls from motorists per day for roadside service was recorded for a  particular month: \n",
        "28, 122, 217, 130, 120, 86, 80, 90, 140, 120, 70, 40, 145, 113, 90, 68, 174, 194, 170,  100, 75, 104, 97, 75, \n",
        "123, 100, 75, 104, 97, 75, 123, 100, 89, 120, 109 "
      ]
    },
    {
      "cell_type": "code",
      "metadata": {
        "colab": {
          "base_uri": "https://localhost:8080/"
        },
        "id": "v_UsYhGbDZxH",
        "outputId": "508b9170-12e4-4673-f872-f4ee5f21b2c3"
      },
      "source": [
        "a=[28, 122, 217, 130, 120, 86, 80, 90, 140, 120, 70, 40, 145, 113, 90, 68, 174, 194, 170, 100, 75, 104, 97, 75, 123, 100, 75, 104, 97, 75, 123, 100, 89, 120, 109]\n",
        "a=np.array(a)\n",
        "print(\"Mean:\",np.mean(a))\n",
        "print(\"Median:\",np.median(a))\n",
        "print(\"Mode:\",statistics.mode(a))\n",
        "print(\"std-dev\",np.std(a))"
      ],
      "execution_count": null,
      "outputs": [
        {
          "output_type": "stream",
          "name": "stdout",
          "text": [
            "Mean: 107.51428571428572\n",
            "Median: 100.0\n",
            "Mode: 75\n",
            "std-dev 38.77287080168403\n"
          ]
        }
      ]
    },
    {
      "cell_type": "markdown",
      "metadata": {
        "id": "p36lXp4rELNd"
      },
      "source": [
        "3.The number of times I go to the gym in weekdays, are given below along with its  associated probability: \n",
        "x = 0, 1, 2, 3, 4, 5 \n",
        "f(x) = 0.09, 0.15, 0.40, 0.25, 0.10, 0.01 \n",
        "Calculate the mean no. of workouts in a week. Also evaluate the variance involved in  it. "
      ]
    },
    {
      "cell_type": "code",
      "metadata": {
        "colab": {
          "base_uri": "https://localhost:8080/"
        },
        "id": "-cqhRDWfEJno",
        "outputId": "61a8d1ad-7624-45f4-9cde-0ab0ee0a13a4"
      },
      "source": [
        "x = [0, 1, 2, 3, 4, 5 ]\n",
        "f = [0.09, 0.15, 0.40, 0.25, 0.10, 0.01]\n",
        "s=0\n",
        "p=0\n",
        "for i in range(len(x)):\n",
        "  p=x[i]*f[i]\n",
        "  s=s+p\n",
        "print(\"Mean:\",s)\n",
        "\n",
        "v=0\n",
        "for i in range(len(x)):\n",
        "  p=((x[i]-s)**2)*f[i]\n",
        "  v=v+p\n",
        "print(\"Variance:\",v)\n"
      ],
      "execution_count": null,
      "outputs": [
        {
          "output_type": "stream",
          "name": "stdout",
          "text": [
            "Mean: 2.15\n",
            "Variance: 1.2275\n"
          ]
        }
      ]
    },
    {
      "cell_type": "markdown",
      "metadata": {
        "id": "X2zn6e8FVgxy"
      },
      "source": [
        "5.A company manufactures LED bulbs with a faulty rate of 30%. If I randomly select 6  chosen LEDs, what is the probability of having 2 faulty LEDs in my sample?  Calculate the average value of this process. Also evaluate the standard deviation  associated with it. "
      ]
    },
    {
      "cell_type": "code",
      "metadata": {
        "colab": {
          "base_uri": "https://localhost:8080/",
          "height": 336
        },
        "id": "fVCS2HG2gN_K",
        "outputId": "8fde3b4e-c20e-4a32-c75b-c89c58e510ba"
      },
      "source": [
        "import numpy as np\n",
        "import matplotlib.pyplot as plt\n",
        "import seaborn as sns\n",
        "binomial_data=np.random.binomial(n=6,p=0.3,size=1000)\n",
        "sns.distplot(binomial_data,kde=True,hist=True,color=\"green\")"
      ],
      "execution_count": 5,
      "outputs": [
        {
          "output_type": "stream",
          "name": "stderr",
          "text": [
            "/usr/local/lib/python3.7/dist-packages/seaborn/distributions.py:2619: FutureWarning: `distplot` is a deprecated function and will be removed in a future version. Please adapt your code to use either `displot` (a figure-level function with similar flexibility) or `histplot` (an axes-level function for histograms).\n",
            "  warnings.warn(msg, FutureWarning)\n"
          ]
        },
        {
          "output_type": "execute_result",
          "data": {
            "text/plain": [
              "<matplotlib.axes._subplots.AxesSubplot at 0x7fec2fa12b10>"
            ]
          },
          "metadata": {},
          "execution_count": 5
        },
        {
          "output_type": "display_data",
          "data": {
            "image/png": "[encoded data removed]",
            "text/plain": [
              "<Figure size 432x288 with 1 Axes>"
            ]
          },
          "metadata": {
            "needs_background": "light"
          }
        }
      ]
    },
    {
      "cell_type": "code",
      "metadata": {
        "colab": {
          "base_uri": "https://localhost:8080/"
        },
        "id": "djBRYGBRl7fl",
        "outputId": "5ad96534-68a9-4779-f00b-248b5a7d510b"
      },
      "source": [
        "from scipy.stats import binom\n",
        "import math\n",
        "mean,var=binom.stats(n=6,p=0.3)\n",
        "print(\"mean:\",mean)\n",
        "print(\"Standard Deviation:\",math.sqrt(var))"
      ],
      "execution_count": 7,
      "outputs": [
        {
          "output_type": "stream",
          "name": "stdout",
          "text": [
            "mean: 1.7999999999999998\n",
            "Standard Deviation: 1.1224972160321822\n"
          ]
        }
      ]
    },
    {
      "cell_type": "markdown",
      "metadata": {
        "id": "umeb0EDYxNSf"
      },
      "source": [
        "6. Gaurav and Barakha are both preparing for entrance exams. Gaurav attempts to\n",
        "solve 8 questions per day with a correction rate of 75%, while Barakha averages\n",
        "around 12 questions per day with a correction rate of 45%. What is the probability\n",
        "that each of them will solve 5 questions correctly? What happens in cases of 4 and 6\n",
        "correct solutions? What do you infer from it? What are the two main governing\n",
        "factors affecting their ability to solve questions correctly? Give a pictorial\n",
        "representation of the same to validate your answer."
      ]
    },
    {
      "cell_type": "code",
      "metadata": {
        "colab": {
          "base_uri": "https://localhost:8080/"
        },
        "id": "0D5eyZ9XxUL2",
        "outputId": "96fcb61f-002b-40e5-e714-b93f674f4a4d"
      },
      "source": [
        "from scipy.stats import binom\n",
        "import numpy as np\n",
        "\n",
        "print(\"Probability that each of them solve 5 Questions correctly is:\",binom.pmf(5,8,0.75)*binom.pmf(5,12,0.45))\n",
        "print(\"Probability of each of them solving 4 and 6 questions correctly is:\",binom.pmf(4,8,0.75)*binom.pmf(6,12,0.45))"
      ],
      "execution_count": null,
      "outputs": [
        {
          "output_type": "stream",
          "name": "stdout",
          "text": [
            "Probability that each of them solve 5 Questions correctly is: 0.04619989057299217\n",
            "Probability of each of them solving 4 and 6 questions correctly is: 0.018374956477894583\n"
          ]
        }
      ]
    },
    {
      "cell_type": "code",
      "metadata": {
        "id": "_10DUAnXy6mw"
      },
      "source": [
        "\n",
        "#following graphs show their correction rates invidually and combined\n",
        "def binom_plot(n,p,):\n",
        "    fig,ax=plt.subplots(1,1)\n",
        "    x = np.arange(binom.ppf(0.01, n, p),binom.ppf(0.99, n, p))\n",
        "    ax.plot(x, binom.pmf(x, n, p), 'bo', ms=8, label='binom pmf')\n",
        "    ax.vlines(x, 0, binom.pmf(x, n, p), colors='b', lw=5, alpha=0.5)"
      ],
      "execution_count": null,
      "outputs": []
    },
    {
      "cell_type": "code",
      "metadata": {
        "colab": {
          "base_uri": "https://localhost:8080/",
          "height": 282
        },
        "id": "UWADI6Ymy9Jt",
        "outputId": "d932b336-3359-4e6b-bfbd-ae4a904a82b3"
      },
      "source": [
        "#Gaurav\n",
        "import matplotlib.pyplot as plt\n",
        "binom_plot(8,0.75)"
      ],
      "execution_count": null,
      "outputs": [
        {
          "output_type": "stream",
          "name": "stdout",
          "text": [
            "[3. 4. 5. 6. 7.]\n"
          ]
        },
        {
          "output_type": "display_data",
          "data": {
            "image/png": "[encoded data removed]",
            "text/plain": [
              "<Figure size 432x288 with 1 Axes>"
            ]
          },
          "metadata": {
            "needs_background": "light"
          }
        }
      ]
    },
    {
      "cell_type": "code",
      "metadata": {
        "colab": {
          "base_uri": "https://localhost:8080/",
          "height": 282
        },
        "id": "jXjrrmlj9NBj",
        "outputId": "744c2db7-8bab-4e33-9eae-8473f1093320"
      },
      "source": [
        "#Barakha\n",
        "binom_plot(12,0.45)"
      ],
      "execution_count": null,
      "outputs": [
        {
          "output_type": "stream",
          "name": "stdout",
          "text": [
            "[2. 3. 4. 5. 6. 7. 8.]\n"
          ]
        },
        {
          "output_type": "display_data",
          "data": {
            "image/png": "[encoded data removed]",
            "text/plain": [
              "<Figure size 432x288 with 1 Axes>"
            ]
          },
          "metadata": {
            "needs_background": "light"
          }
        }
      ]
    },
    {
      "cell_type": "markdown",
      "metadata": {
        "id": "utxhkjebprZA"
      },
      "source": [
        "7.Customers arrive at a rate of 72 per hour to my shop. What is the probability of k\n",
        "customers arriving in 4 minutes? a) 5 customers, b) not more than 3 customers, c)\n",
        "more than 3 customers. Give a pictorial representation of the same to validate your\n",
        "answer."
      ]
    },
    {
      "cell_type": "markdown",
      "metadata": {
        "id": "YF9VIcKLp-m5"
      },
      "source": [
        "Ans:\n",
        "Given, Customes arrive at a rate of 72 per hour\n",
        "so, per minute it is 72/60=1.2 .\n",
        "In 4 min =1.2*4=4.8 \n",
        "\n",
        "a)5 customers:\n",
        "p(x=5|m=4.8)=((e^-4.8) * (4.8)^5)/5!\n",
        "\n",
        "b)less than 3 customers:\n",
        "p(x<=3|m=4.8)=p(x=1|m=4.8)+p(x=2|m=4.8)+p(x=3|m=4.8)\n",
        "=e^-4.8 * 4.8^1/1! + e^-4.8 *4.8^2/2!+ e^-4.8 *4.8^3/3!\n",
        "\n",
        "c)greater than 3 customers:\n",
        "p(x>3|m=4.8)=p(x=4|m=4.8)+p(x=5|m=4.8)+p(x=6|m=4.8)+...\n",
        "\n",
        "=e^-4.8 4.8^4/4! + e^-4.8 *4.8^5/5!+ e^-4.8 *4.8^6/6!\n"
      ]
    },
    {
      "cell_type": "code",
      "metadata": {
        "colab": {
          "base_uri": "https://localhost:8080/",
          "height": 336
        },
        "id": "v1dwsDo2p0V8",
        "outputId": "ed021dc4-cb84-4115-e32f-cdcad5a6396f"
      },
      "source": [
        "from scipy.stats import poisson\n",
        "import matplotlib.pyplot as plt\n",
        "import seaborn as sns\n",
        "poisson_data=poisson.rvs(mu=4.8,size=1000)\n",
        "sns.distplot(poisson_data,hist=True,kde=True,color=\"red\")"
      ],
      "execution_count": null,
      "outputs": [
        {
          "output_type": "stream",
          "text": [
            "/usr/local/lib/python3.7/dist-packages/seaborn/distributions.py:2557: FutureWarning: `distplot` is a deprecated function and will be removed in a future version. Please adapt your code to use either `displot` (a figure-level function with similar flexibility) or `histplot` (an axes-level function for histograms).\n",
            "  warnings.warn(msg, FutureWarning)\n"
          ],
          "name": "stderr"
        },
        {
          "output_type": "execute_result",
          "data": {
            "text/plain": [
              "<matplotlib.axes._subplots.AxesSubplot at 0x7fdc3ad75990>"
            ]
          },
          "metadata": {},
          "execution_count": 12
        },
        {
          "output_type": "display_data",
          "data": {
            "image/png": "[encoded data removed]",
            "text/plain": [
              "<Figure size 432x288 with 1 Axes>"
            ]
          },
          "metadata": {
            "needs_background": "light"
          }
        }
      ]
    },
    {
      "cell_type": "code",
      "metadata": {
        "colab": {
          "base_uri": "https://localhost:8080/"
        },
        "id": "eskUlcfOvM55",
        "outputId": "e9bcd2aa-c58a-40ed-e0cd-3fe81eeb0e26"
      },
      "source": [
        "from scipy.stats import poisson\n",
        "probab1=poisson.pmf(k=5,mu=4.8)\n",
        "probab2=sum(poisson.pmf(k=[0,1,2],mu=4.8))\n",
        "probab3=sum(poisson.pmf(k=[4,5,6],mu=4.8))\n",
        "#a) 5 Customers\n",
        "print(\"probability of 5 customers:\",probab1)\n",
        "#b) less than 3 customers\n",
        "print(\"Probability of less than 3 customers:\",probab2)\n",
        "#c) greater than 3 customers\n",
        "print(\"Probability of greater than 3 customers:\",probab3)"
      ],
      "execution_count": null,
      "outputs": [
        {
          "output_type": "stream",
          "text": [
            "probability of 5 customers: 0.17474768364388296\n",
            "Probability of less than 3 customers: 0.14253921888902693\n",
            "Probability of greater than 3 customers: 0.4965746676880337\n"
          ],
          "name": "stdout"
        }
      ]
    },
    {
      "cell_type": "markdown",
      "metadata": {
        "id": "n6DnzR0CLoDz"
      },
      "source": [
        "8. I work as a data analyst in Aeon Learning Pvt. Ltd. After analyzing data, I make\n",
        "reports, where I have the efficiency of entering 77 words per minute with 6 errors per\n",
        "hour. What is the probability that I will commit 2 errors in a 455-word financial report?\n",
        "What happens when the no. of words increases/decreases (in case of 1000 words,\n",
        "255 words)?\n",
        "How is the λ affected?\n",
        "How does it influence the PMF?\n",
        "Give a pictorial representation of the same to validate your answer."
      ]
    },
    {
      "cell_type": "code",
      "metadata": {
        "colab": {
          "base_uri": "https://localhost:8080/",
          "height": 388
        },
        "id": "xGNw1K5VUt9T",
        "outputId": "1a1f63d2-d648-4003-f42f-65f4f8c58ca8"
      },
      "source": [
        "from scipy.stats import poisson\n",
        "import matplotlib.pyplot as plt\n",
        "\n",
        "#77 words per min =>4620 words per hour\n",
        "#6 errors per hour =>6/4620 errors/word\n",
        "m=6/4620\n",
        "def mean1(n):\n",
        "  return n*m\n",
        "\n",
        "print(\"Probability of commiting 2 errors in 455 financial report:\",poisson.pmf(2,mean1(455)))\n",
        "print(\"Probability of commiting 2 errors in 1000 words financial report\",poisson.pmf(2,mean1(1000)))\n",
        "print(\"Probability of commiting 2 errors in 255 words financial report\",poisson.pmf(2,mean1(255)))\n",
        "x=range(100,1000,50)\n",
        "mu=[i*m for i in x]\n",
        "fig,ax = plt.subplots(1,1,figsize=(15,5))\n",
        "ax.plot(x,poisson.pmf(2,mu), 'bo', ms=8, label='poisson pmf')\n",
        "ax.vlines(x,0, poisson.pmf(2,mu), colors='b', lw=5, alpha=0.5)\n",
        "#As the number of words increase probability of getting errors increases"
      ],
      "execution_count": null,
      "outputs": [
        {
          "output_type": "stream",
          "name": "stdout",
          "text": [
            "Probability of commiting 2 errors in 455 financial report: 0.09669027375144444\n",
            "Probability of commiting 2 errors in 1000 words financial report 0.23012815007300153\n",
            "Probability of commiting 2 errors in 255 words financial report 0.039377135392854104\n"
          ]
        },
        {
          "output_type": "execute_result",
          "data": {
            "text/plain": [
              "<matplotlib.collections.LineCollection at 0x7fddcf334950>"
            ]
          },
          "metadata": {},
          "execution_count": 6
        },
        {
          "output_type": "display_data",
          "data": {
            "image/png": "[encoded data removed]",
            "text/plain": [
              "<Figure size 1080x360 with 1 Axes>"
            ]
          },
          "metadata": {
            "needs_background": "light"
          }
        }
      ]
    },
    {
      "cell_type": "markdown",
      "metadata": {
        "id": "RZXP3ky0iU7v"
      },
      "source": [
        "10.Please compute the following:\n",
        "a) P(Z > 1.26), . P(Z < −0.86), P(Z > −1.37), P(−1.25 < Z < 0.37), . P(Z ≤ −4.6)\n",
        "b) Find the value z such that P(Z > z) = 0.05\n",
        "c) Find the value of z such that P(−z < Z < z) = 0.99"
      ]
    },
    {
      "cell_type": "code",
      "metadata": {
        "id": "1yFjJKPFid1g",
        "colab": {
          "base_uri": "https://localhost:8080/"
        },
        "outputId": "87b3a2c5-6480-45de-fb53-d5b382308a9f"
      },
      "source": [
        "from scipy.stats import norm\n",
        "from scipy import integrate\n",
        "import numpy as np\n",
        "def P(z,b=-np.inf) :\n",
        "    return integrate.quad(norm.pdf,b,z)[0]\n",
        "\n",
        "print('P(Z>1.26) = %.5f'%(1-P(1.26)))\n",
        "print('P(Z<-0.86) = %.5f'%P(-0.86))\n",
        "print('P(Z>-1.37) = %.5f'%(1-P(-1.37)))\n",
        "print('P(−1.25 < Z < 0.37) = %.5f'%P(0.37,b=-1.25))\n",
        "print('P(Z ≤ −4.6) = %.5f'%P(-4.6))"
      ],
      "execution_count": null,
      "outputs": [
        {
          "output_type": "stream",
          "name": "stdout",
          "text": [
            "P(Z>1.26) = 0.10383\n",
            "P(Z<-0.86) = 0.19489\n",
            "P(Z>-1.37) = 0.91466\n",
            "P(−1.25 < Z < 0.37) = 0.53866\n",
            "P(Z ≤ −4.6) = 0.00000\n"
          ]
        }
      ]
    },
    {
      "cell_type": "code",
      "metadata": {
        "colab": {
          "base_uri": "https://localhost:8080/"
        },
        "id": "8M0eFUhZvkR7",
        "outputId": "e6614eb4-ae20-4ed4-b5f1-565dffc95fac"
      },
      "source": [
        "print('P(Z>z)=0.05 is %.2f'%(-1*norm.ppf(0.05)))\n",
        "print('𝑃(−𝑧 < 𝑍 < 𝑧) = 0.99 is %.2f'%(abs(norm.ppf(0.005))))"
      ],
      "execution_count": null,
      "outputs": [
        {
          "output_type": "stream",
          "name": "stdout",
          "text": [
            "P(Z>z)=0.05 is 1.64\n",
            "𝑃(−𝑧 < 𝑍 < 𝑧) = 0.99 is 2.58\n"
          ]
        }
      ]
    },
    {
      "cell_type": "markdown",
      "metadata": {
        "id": "pWvLY-6zyqWw"
      },
      "source": [
        "11 The current flow in a copper wire follow a normal distribution with a mean of 10 𝑚A and a variance of 4 (𝑚𝐴)2.\n",
        "What is the probability that a current measurement will exceed 13 𝑚𝐴? What is the probability that a current measurement is between 9 and 11mA? Determine the current measurement which has a probability of 0.98."
      ]
    },
    {
      "cell_type": "code",
      "metadata": {
        "colab": {
          "base_uri": "https://localhost:8080/"
        },
        "id": "dIpiohzqyyKS",
        "outputId": "9714d0fb-b69c-46d5-f8d4-d22add3cb5bc"
      },
      "source": [
        "\n",
        "mean = 10\n",
        "std = np.sqrt(4)\n",
        "\n",
        "def I(z, b=-np.inf):\n",
        "    z = (z-mean)/std\n",
        "    return integrate.quad(norm.pdf,b,z)[0]\n",
        "print(f\"Probability that current > 13mA is: {1-I(13)}\")\n",
        "print(f\"Probability that current is between 9 mA and 11 mA is : {1-I(11,b=9)}\")"
      ],
      "execution_count": null,
      "outputs": [
        {
          "output_type": "stream",
          "name": "stdout",
          "text": [
            "Probability that current > 13mA is: 0.06680720126885797\n",
            "Probability that current is between 9 mA and 11 mA is : 1.3085375387259144\n"
          ]
        }
      ]
    },
    {
      "cell_type": "markdown",
      "metadata": {
        "id": "IEEW1C9F3Zcr"
      },
      "source": [
        "12) The shaft in a piston has its diameter normally distributed with a mean of 0.2508 inch and a standard deviation of 0.0005 inch. The specifications of the shaft are 0.2500 ∓0.0015 inch. What proportion of shafts are in sync with the specifications? If the process is centered so that the mean is equal to the target value of 0.2500, what proportion of shafts conform to the new specifications? What is your conclusion from this experiment?"
      ]
    },
    {
      "cell_type": "code",
      "metadata": {
        "colab": {
          "base_uri": "https://localhost:8080/"
        },
        "id": "BWM7yNmd6apR",
        "outputId": "2b8f64a2-3584-46f1-a65f-7394dabe5fb7"
      },
      "source": [
        "mean_dia=0.2508\n",
        "std_dia=0.0005\n",
        "#specified dia in the range of 0.2485<d<0.2515\n",
        "#case-1 if mean_dia=0.2508\n",
        "def I(mean,std,a,b) :\n",
        "  #gives P(Z<=x)\n",
        "  a=(a-mean)/std\n",
        "  b=(b-mean)/std\n",
        "print(f\"Proportion of shafts with dia in range of 0.2485<d<0.2515 when mean diameter:{0.2508,I(0.2508,0.0005,0.2485,0.2515)}\")\n",
        "print(f\"Proportion of shafts with dia in range of 0.2485<d<0.2515 when mean diameter:{0.2500,I(0.2500,0.0005,0.2485,0.2515)}\")"
      ],
      "execution_count": null,
      "outputs": [
        {
          "output_type": "stream",
          "name": "stdout",
          "text": [
            "Proportion of shafts with dia in range of 0.2485<d<0.2515 when mean diameter:(0.2508, None)\n",
            "Proportion of shafts with dia in range of 0.2485<d<0.2515 when mean diameter:(0.25, None)\n"
          ]
        }
      ]
    }
  ]
}